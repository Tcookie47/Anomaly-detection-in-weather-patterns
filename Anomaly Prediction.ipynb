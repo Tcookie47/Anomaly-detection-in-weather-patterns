{
 "cells": [
  {
   "cell_type": "code",
   "execution_count": 6,
   "metadata": {},
   "outputs": [
    {
     "data": {
      "text/html": [
       "<style>\n",
       "body {\n",
       "    font-family: \"Calibri\", sans-serif;\n",
       "}\n",
       "</style> \n"
      ],
      "text/plain": [
       "<IPython.core.display.HTML object>"
      ]
     },
     "metadata": {},
     "output_type": "display_data"
    }
   ],
   "source": [
    "%%html\n",
    "<style>\n",
    "body {\n",
    "    font-family: \"Calibri\", sans-serif;\n",
    "}\n",
    "</style> "
   ]
  },
  {
   "cell_type": "code",
   "execution_count": 1,
   "metadata": {},
   "outputs": [],
   "source": [
    "import pandas as pd\n",
    "import numpy as np\n",
    "import tensorflow as tf\n",
    "from sklearn.preprocessing import StandardScaler\n",
    "from tensorflow import keras\n",
    "from tensorflow.keras import layers\n",
    "from keras.regularizers import l2\n",
    "import matplotlib.pyplot as plt"
   ]
  },
  {
   "cell_type": "code",
   "execution_count": 3,
   "metadata": {},
   "outputs": [],
   "source": [
    "df = pd.read_csv('IsolationForest.csv')"
   ]
  },
  {
   "cell_type": "code",
   "execution_count": 4,
   "metadata": {},
   "outputs": [
    {
     "data": {
      "text/html": [
       "<div>\n",
       "<style scoped>\n",
       "    .dataframe tbody tr th:only-of-type {\n",
       "        vertical-align: middle;\n",
       "    }\n",
       "\n",
       "    .dataframe tbody tr th {\n",
       "        vertical-align: top;\n",
       "    }\n",
       "\n",
       "    .dataframe thead th {\n",
       "        text-align: right;\n",
       "    }\n",
       "</style>\n",
       "<table border=\"1\" class=\"dataframe\">\n",
       "  <thead>\n",
       "    <tr style=\"text-align: right;\">\n",
       "      <th></th>\n",
       "      <th>datetime</th>\n",
       "      <th>Humidity</th>\n",
       "      <th>Pressure</th>\n",
       "      <th>Temperature</th>\n",
       "      <th>Wind_Direction</th>\n",
       "      <th>Wind_Speed</th>\n",
       "      <th>Anomaly</th>\n",
       "    </tr>\n",
       "  </thead>\n",
       "  <tbody>\n",
       "    <tr>\n",
       "      <th>0</th>\n",
       "      <td>01-10-12 13:00</td>\n",
       "      <td>58.0</td>\n",
       "      <td>1012.0</td>\n",
       "      <td>288.220000</td>\n",
       "      <td>260.0</td>\n",
       "      <td>7.0</td>\n",
       "      <td>0</td>\n",
       "    </tr>\n",
       "    <tr>\n",
       "      <th>1</th>\n",
       "      <td>01-10-12 14:00</td>\n",
       "      <td>57.0</td>\n",
       "      <td>1012.0</td>\n",
       "      <td>288.247676</td>\n",
       "      <td>260.0</td>\n",
       "      <td>7.0</td>\n",
       "      <td>0</td>\n",
       "    </tr>\n",
       "    <tr>\n",
       "      <th>2</th>\n",
       "      <td>01-10-12 15:00</td>\n",
       "      <td>57.0</td>\n",
       "      <td>1012.0</td>\n",
       "      <td>288.326940</td>\n",
       "      <td>260.0</td>\n",
       "      <td>7.0</td>\n",
       "      <td>0</td>\n",
       "    </tr>\n",
       "    <tr>\n",
       "      <th>3</th>\n",
       "      <td>01-10-12 16:00</td>\n",
       "      <td>57.0</td>\n",
       "      <td>1012.0</td>\n",
       "      <td>288.406203</td>\n",
       "      <td>260.0</td>\n",
       "      <td>7.0</td>\n",
       "      <td>0</td>\n",
       "    </tr>\n",
       "    <tr>\n",
       "      <th>4</th>\n",
       "      <td>01-10-12 17:00</td>\n",
       "      <td>57.0</td>\n",
       "      <td>1012.0</td>\n",
       "      <td>288.485467</td>\n",
       "      <td>261.0</td>\n",
       "      <td>6.0</td>\n",
       "      <td>0</td>\n",
       "    </tr>\n",
       "    <tr>\n",
       "      <th>...</th>\n",
       "      <td>...</td>\n",
       "      <td>...</td>\n",
       "      <td>...</td>\n",
       "      <td>...</td>\n",
       "      <td>...</td>\n",
       "      <td>...</td>\n",
       "      <td>...</td>\n",
       "    </tr>\n",
       "    <tr>\n",
       "      <th>43604</th>\n",
       "      <td>27-10-17 20:00</td>\n",
       "      <td>36.0</td>\n",
       "      <td>1019.0</td>\n",
       "      <td>289.980000</td>\n",
       "      <td>0.0</td>\n",
       "      <td>3.0</td>\n",
       "      <td>0</td>\n",
       "    </tr>\n",
       "    <tr>\n",
       "      <th>43605</th>\n",
       "      <td>27-10-17 21:00</td>\n",
       "      <td>38.0</td>\n",
       "      <td>1019.0</td>\n",
       "      <td>289.480000</td>\n",
       "      <td>0.0</td>\n",
       "      <td>1.0</td>\n",
       "      <td>0</td>\n",
       "    </tr>\n",
       "    <tr>\n",
       "      <th>43606</th>\n",
       "      <td>27-10-17 22:00</td>\n",
       "      <td>54.0</td>\n",
       "      <td>1019.0</td>\n",
       "      <td>287.920000</td>\n",
       "      <td>196.0</td>\n",
       "      <td>2.0</td>\n",
       "      <td>0</td>\n",
       "    </tr>\n",
       "    <tr>\n",
       "      <th>43607</th>\n",
       "      <td>27-10-17 23:00</td>\n",
       "      <td>62.0</td>\n",
       "      <td>1020.0</td>\n",
       "      <td>285.830000</td>\n",
       "      <td>171.0</td>\n",
       "      <td>3.0</td>\n",
       "      <td>0</td>\n",
       "    </tr>\n",
       "    <tr>\n",
       "      <th>43608</th>\n",
       "      <td>28-10-17 00:00</td>\n",
       "      <td>58.0</td>\n",
       "      <td>1020.0</td>\n",
       "      <td>284.980000</td>\n",
       "      <td>0.0</td>\n",
       "      <td>2.0</td>\n",
       "      <td>0</td>\n",
       "    </tr>\n",
       "  </tbody>\n",
       "</table>\n",
       "<p>43609 rows × 7 columns</p>\n",
       "</div>"
      ],
      "text/plain": [
       "             datetime  Humidity  Pressure  Temperature  Wind_Direction  \\\n",
       "0      01-10-12 13:00      58.0    1012.0   288.220000           260.0   \n",
       "1      01-10-12 14:00      57.0    1012.0   288.247676           260.0   \n",
       "2      01-10-12 15:00      57.0    1012.0   288.326940           260.0   \n",
       "3      01-10-12 16:00      57.0    1012.0   288.406203           260.0   \n",
       "4      01-10-12 17:00      57.0    1012.0   288.485467           261.0   \n",
       "...               ...       ...       ...          ...             ...   \n",
       "43604  27-10-17 20:00      36.0    1019.0   289.980000             0.0   \n",
       "43605  27-10-17 21:00      38.0    1019.0   289.480000             0.0   \n",
       "43606  27-10-17 22:00      54.0    1019.0   287.920000           196.0   \n",
       "43607  27-10-17 23:00      62.0    1020.0   285.830000           171.0   \n",
       "43608  28-10-17 00:00      58.0    1020.0   284.980000             0.0   \n",
       "\n",
       "       Wind_Speed  Anomaly  \n",
       "0             7.0        0  \n",
       "1             7.0        0  \n",
       "2             7.0        0  \n",
       "3             7.0        0  \n",
       "4             6.0        0  \n",
       "...           ...      ...  \n",
       "43604         3.0        0  \n",
       "43605         1.0        0  \n",
       "43606         2.0        0  \n",
       "43607         3.0        0  \n",
       "43608         2.0        0  \n",
       "\n",
       "[43609 rows x 7 columns]"
      ]
     },
     "execution_count": 4,
     "metadata": {},
     "output_type": "execute_result"
    }
   ],
   "source": [
    "df"
   ]
  },
  {
   "cell_type": "code",
   "execution_count": 5,
   "metadata": {},
   "outputs": [],
   "source": [
    "del df['datetime']"
   ]
  },
  {
   "cell_type": "code",
   "execution_count": 6,
   "metadata": {},
   "outputs": [
    {
     "data": {
      "text/html": [
       "<div>\n",
       "<style scoped>\n",
       "    .dataframe tbody tr th:only-of-type {\n",
       "        vertical-align: middle;\n",
       "    }\n",
       "\n",
       "    .dataframe tbody tr th {\n",
       "        vertical-align: top;\n",
       "    }\n",
       "\n",
       "    .dataframe thead th {\n",
       "        text-align: right;\n",
       "    }\n",
       "</style>\n",
       "<table border=\"1\" class=\"dataframe\">\n",
       "  <thead>\n",
       "    <tr style=\"text-align: right;\">\n",
       "      <th></th>\n",
       "      <th>Humidity</th>\n",
       "      <th>Pressure</th>\n",
       "      <th>Temperature</th>\n",
       "      <th>Wind_Direction</th>\n",
       "      <th>Wind_Speed</th>\n",
       "      <th>Anomaly</th>\n",
       "    </tr>\n",
       "  </thead>\n",
       "  <tbody>\n",
       "    <tr>\n",
       "      <th>0</th>\n",
       "      <td>58.0</td>\n",
       "      <td>1012.0</td>\n",
       "      <td>288.220000</td>\n",
       "      <td>260.0</td>\n",
       "      <td>7.0</td>\n",
       "      <td>0</td>\n",
       "    </tr>\n",
       "    <tr>\n",
       "      <th>1</th>\n",
       "      <td>57.0</td>\n",
       "      <td>1012.0</td>\n",
       "      <td>288.247676</td>\n",
       "      <td>260.0</td>\n",
       "      <td>7.0</td>\n",
       "      <td>0</td>\n",
       "    </tr>\n",
       "    <tr>\n",
       "      <th>2</th>\n",
       "      <td>57.0</td>\n",
       "      <td>1012.0</td>\n",
       "      <td>288.326940</td>\n",
       "      <td>260.0</td>\n",
       "      <td>7.0</td>\n",
       "      <td>0</td>\n",
       "    </tr>\n",
       "    <tr>\n",
       "      <th>3</th>\n",
       "      <td>57.0</td>\n",
       "      <td>1012.0</td>\n",
       "      <td>288.406203</td>\n",
       "      <td>260.0</td>\n",
       "      <td>7.0</td>\n",
       "      <td>0</td>\n",
       "    </tr>\n",
       "    <tr>\n",
       "      <th>4</th>\n",
       "      <td>57.0</td>\n",
       "      <td>1012.0</td>\n",
       "      <td>288.485467</td>\n",
       "      <td>261.0</td>\n",
       "      <td>6.0</td>\n",
       "      <td>0</td>\n",
       "    </tr>\n",
       "    <tr>\n",
       "      <th>...</th>\n",
       "      <td>...</td>\n",
       "      <td>...</td>\n",
       "      <td>...</td>\n",
       "      <td>...</td>\n",
       "      <td>...</td>\n",
       "      <td>...</td>\n",
       "    </tr>\n",
       "    <tr>\n",
       "      <th>43604</th>\n",
       "      <td>36.0</td>\n",
       "      <td>1019.0</td>\n",
       "      <td>289.980000</td>\n",
       "      <td>0.0</td>\n",
       "      <td>3.0</td>\n",
       "      <td>0</td>\n",
       "    </tr>\n",
       "    <tr>\n",
       "      <th>43605</th>\n",
       "      <td>38.0</td>\n",
       "      <td>1019.0</td>\n",
       "      <td>289.480000</td>\n",
       "      <td>0.0</td>\n",
       "      <td>1.0</td>\n",
       "      <td>0</td>\n",
       "    </tr>\n",
       "    <tr>\n",
       "      <th>43606</th>\n",
       "      <td>54.0</td>\n",
       "      <td>1019.0</td>\n",
       "      <td>287.920000</td>\n",
       "      <td>196.0</td>\n",
       "      <td>2.0</td>\n",
       "      <td>0</td>\n",
       "    </tr>\n",
       "    <tr>\n",
       "      <th>43607</th>\n",
       "      <td>62.0</td>\n",
       "      <td>1020.0</td>\n",
       "      <td>285.830000</td>\n",
       "      <td>171.0</td>\n",
       "      <td>3.0</td>\n",
       "      <td>0</td>\n",
       "    </tr>\n",
       "    <tr>\n",
       "      <th>43608</th>\n",
       "      <td>58.0</td>\n",
       "      <td>1020.0</td>\n",
       "      <td>284.980000</td>\n",
       "      <td>0.0</td>\n",
       "      <td>2.0</td>\n",
       "      <td>0</td>\n",
       "    </tr>\n",
       "  </tbody>\n",
       "</table>\n",
       "<p>43609 rows × 6 columns</p>\n",
       "</div>"
      ],
      "text/plain": [
       "       Humidity  Pressure  Temperature  Wind_Direction  Wind_Speed  Anomaly\n",
       "0          58.0    1012.0   288.220000           260.0         7.0        0\n",
       "1          57.0    1012.0   288.247676           260.0         7.0        0\n",
       "2          57.0    1012.0   288.326940           260.0         7.0        0\n",
       "3          57.0    1012.0   288.406203           260.0         7.0        0\n",
       "4          57.0    1012.0   288.485467           261.0         6.0        0\n",
       "...         ...       ...          ...             ...         ...      ...\n",
       "43604      36.0    1019.0   289.980000             0.0         3.0        0\n",
       "43605      38.0    1019.0   289.480000             0.0         1.0        0\n",
       "43606      54.0    1019.0   287.920000           196.0         2.0        0\n",
       "43607      62.0    1020.0   285.830000           171.0         3.0        0\n",
       "43608      58.0    1020.0   284.980000             0.0         2.0        0\n",
       "\n",
       "[43609 rows x 6 columns]"
      ]
     },
     "execution_count": 6,
     "metadata": {},
     "output_type": "execute_result"
    }
   ],
   "source": [
    "df"
   ]
  },
  {
   "cell_type": "code",
   "execution_count": 7,
   "metadata": {},
   "outputs": [
    {
     "data": {
      "text/html": [
       "<div>\n",
       "<style scoped>\n",
       "    .dataframe tbody tr th:only-of-type {\n",
       "        vertical-align: middle;\n",
       "    }\n",
       "\n",
       "    .dataframe tbody tr th {\n",
       "        vertical-align: top;\n",
       "    }\n",
       "\n",
       "    .dataframe thead th {\n",
       "        text-align: right;\n",
       "    }\n",
       "</style>\n",
       "<table border=\"1\" class=\"dataframe\">\n",
       "  <thead>\n",
       "    <tr style=\"text-align: right;\">\n",
       "      <th></th>\n",
       "      <th>Humidity</th>\n",
       "      <th>Pressure</th>\n",
       "      <th>Temperature</th>\n",
       "      <th>Wind_Direction</th>\n",
       "      <th>Wind_Speed</th>\n",
       "      <th>Anomaly</th>\n",
       "    </tr>\n",
       "  </thead>\n",
       "  <tbody>\n",
       "    <tr>\n",
       "      <th>count</th>\n",
       "      <td>43609.000000</td>\n",
       "      <td>43609.000000</td>\n",
       "      <td>43609.000000</td>\n",
       "      <td>43609.000000</td>\n",
       "      <td>43609.000000</td>\n",
       "      <td>43609.000000</td>\n",
       "    </tr>\n",
       "    <tr>\n",
       "      <th>mean</th>\n",
       "      <td>66.656103</td>\n",
       "      <td>1017.038249</td>\n",
       "      <td>285.473928</td>\n",
       "      <td>196.113486</td>\n",
       "      <td>3.221950</td>\n",
       "      <td>0.100002</td>\n",
       "    </tr>\n",
       "    <tr>\n",
       "      <th>std</th>\n",
       "      <td>19.867463</td>\n",
       "      <td>10.141989</td>\n",
       "      <td>10.228924</td>\n",
       "      <td>107.272360</td>\n",
       "      <td>2.174724</td>\n",
       "      <td>0.300006</td>\n",
       "    </tr>\n",
       "    <tr>\n",
       "      <th>min</th>\n",
       "      <td>10.000000</td>\n",
       "      <td>959.000000</td>\n",
       "      <td>250.774000</td>\n",
       "      <td>0.000000</td>\n",
       "      <td>0.000000</td>\n",
       "      <td>0.000000</td>\n",
       "    </tr>\n",
       "    <tr>\n",
       "      <th>25%</th>\n",
       "      <td>51.000000</td>\n",
       "      <td>1012.000000</td>\n",
       "      <td>277.470000</td>\n",
       "      <td>104.000000</td>\n",
       "      <td>2.000000</td>\n",
       "      <td>0.000000</td>\n",
       "    </tr>\n",
       "    <tr>\n",
       "      <th>50%</th>\n",
       "      <td>68.000000</td>\n",
       "      <td>1017.000000</td>\n",
       "      <td>286.022000</td>\n",
       "      <td>220.000000</td>\n",
       "      <td>3.000000</td>\n",
       "      <td>0.000000</td>\n",
       "    </tr>\n",
       "    <tr>\n",
       "      <th>75%</th>\n",
       "      <td>83.000000</td>\n",
       "      <td>1023.000000</td>\n",
       "      <td>293.830000</td>\n",
       "      <td>288.000000</td>\n",
       "      <td>4.000000</td>\n",
       "      <td>0.000000</td>\n",
       "    </tr>\n",
       "    <tr>\n",
       "      <th>max</th>\n",
       "      <td>100.000000</td>\n",
       "      <td>1052.000000</td>\n",
       "      <td>310.240000</td>\n",
       "      <td>360.000000</td>\n",
       "      <td>25.000000</td>\n",
       "      <td>1.000000</td>\n",
       "    </tr>\n",
       "  </tbody>\n",
       "</table>\n",
       "</div>"
      ],
      "text/plain": [
       "           Humidity      Pressure   Temperature  Wind_Direction    Wind_Speed  \\\n",
       "count  43609.000000  43609.000000  43609.000000    43609.000000  43609.000000   \n",
       "mean      66.656103   1017.038249    285.473928      196.113486      3.221950   \n",
       "std       19.867463     10.141989     10.228924      107.272360      2.174724   \n",
       "min       10.000000    959.000000    250.774000        0.000000      0.000000   \n",
       "25%       51.000000   1012.000000    277.470000      104.000000      2.000000   \n",
       "50%       68.000000   1017.000000    286.022000      220.000000      3.000000   \n",
       "75%       83.000000   1023.000000    293.830000      288.000000      4.000000   \n",
       "max      100.000000   1052.000000    310.240000      360.000000     25.000000   \n",
       "\n",
       "            Anomaly  \n",
       "count  43609.000000  \n",
       "mean       0.100002  \n",
       "std        0.300006  \n",
       "min        0.000000  \n",
       "25%        0.000000  \n",
       "50%        0.000000  \n",
       "75%        0.000000  \n",
       "max        1.000000  "
      ]
     },
     "execution_count": 7,
     "metadata": {},
     "output_type": "execute_result"
    }
   ],
   "source": [
    "df.describe()"
   ]
  },
  {
   "cell_type": "code",
   "execution_count": 13,
   "metadata": {},
   "outputs": [],
   "source": [
    "Y = df['Anomaly']"
   ]
  },
  {
   "cell_type": "code",
   "execution_count": 14,
   "metadata": {},
   "outputs": [],
   "source": [
    "Y = np.array(y)"
   ]
  },
  {
   "cell_type": "code",
   "execution_count": 15,
   "metadata": {},
   "outputs": [
    {
     "data": {
      "text/plain": [
       "array([0, 0, 0, ..., 0, 0, 0])"
      ]
     },
     "execution_count": 15,
     "metadata": {},
     "output_type": "execute_result"
    }
   ],
   "source": [
    "Y"
   ]
  },
  {
   "cell_type": "code",
   "execution_count": 16,
   "metadata": {},
   "outputs": [],
   "source": [
    "X = df[['Humidity','Pressure','Temperature','Wind_Direction','Wind_Speed']]"
   ]
  },
  {
   "cell_type": "code",
   "execution_count": 18,
   "metadata": {},
   "outputs": [],
   "source": [
    "X = np.array(X)"
   ]
  },
  {
   "cell_type": "code",
   "execution_count": 19,
   "metadata": {},
   "outputs": [
    {
     "data": {
      "text/plain": [
       "array([[  58.       , 1012.       ,  288.22     ,  260.       ,\n",
       "           7.       ],\n",
       "       [  57.       , 1012.       ,  288.2476762,  260.       ,\n",
       "           7.       ],\n",
       "       [  57.       , 1012.       ,  288.3269397,  260.       ,\n",
       "           7.       ],\n",
       "       ...,\n",
       "       [  54.       , 1019.       ,  287.92     ,  196.       ,\n",
       "           2.       ],\n",
       "       [  62.       , 1020.       ,  285.83     ,  171.       ,\n",
       "           3.       ],\n",
       "       [  58.       , 1020.       ,  284.98     ,    0.       ,\n",
       "           2.       ]])"
      ]
     },
     "execution_count": 19,
     "metadata": {},
     "output_type": "execute_result"
    }
   ],
   "source": [
    "X"
   ]
  },
  {
   "cell_type": "code",
   "execution_count": 29,
   "metadata": {},
   "outputs": [
    {
     "data": {
      "text/plain": [
       "Counter({1: 20189, 0: 20189})"
      ]
     },
     "execution_count": 29,
     "metadata": {},
     "output_type": "execute_result"
    }
   ],
   "source": [
    "from collections import Counter\n",
    "from sklearn.model_selection import train_test_split\n",
    "X_train, X_test, y_train, y_test = train_test_split(X, Y, test_size=0.20, random_state=38, shuffle = True)\n",
    "import imblearn\n",
    "from imblearn.over_sampling import SMOTE \n",
    "oversample = SMOTE()\n",
    "X, Y = oversample.fit_resample(X_train, y_train)\n",
    "Counter(Y)"
   ]
  },
  {
   "cell_type": "code",
   "execution_count": 30,
   "metadata": {},
   "outputs": [
    {
     "data": {
      "text/plain": [
       "array([[  61.40714428, 1036.13571476,  281.512595  ,   50.        ,\n",
       "           5.        ],\n",
       "       [  60.        , 1018.        ,  278.07      ,   20.        ,\n",
       "           6.        ],\n",
       "       [ 100.        , 1028.        ,  279.653     ,  347.        ,\n",
       "           5.        ],\n",
       "       ...,\n",
       "       [  32.44119084, 1033.75632715,  283.31151558,  100.31513631,\n",
       "           5.74789095],\n",
       "       [  59.        , 1016.        ,  274.81      ,  310.        ,\n",
       "           5.        ],\n",
       "       [  65.37492212, 1039.57504673,  289.54471246,    0.        ,\n",
       "           1.52501558]])"
      ]
     },
     "execution_count": 30,
     "metadata": {},
     "output_type": "execute_result"
    }
   ],
   "source": [
    "X_train"
   ]
  },
  {
   "cell_type": "code",
   "execution_count": 31,
   "metadata": {},
   "outputs": [],
   "source": [
    "sc = StandardScaler()\n",
    "X_train = sc.fit_transform(X_train)\n",
    "X_test = sc.fit_transform(X_test)"
   ]
  },
  {
   "cell_type": "code",
   "execution_count": 32,
   "metadata": {},
   "outputs": [],
   "source": [
    "from tensorflow.keras.layers import Input, Dense, Activation,Dropout\n",
    "from tensorflow.keras.models import Model"
   ]
  },
  {
   "cell_type": "code",
   "execution_count": 33,
   "metadata": {},
   "outputs": [],
   "source": [
    "input_layer = Input(shape=(X.shape[1],))\n",
    "dense_layer_1 = Dense(128, activation='sigmoid',bias_regularizer=l2(0.01))(input_layer)\n",
    "dense_layer_2 = Dense(128, activation='sigmoid',bias_regularizer=l2(0.01))(dense_layer_1)\n",
    "dense_layer_3 = Dense(128, activation='sigmoid',bias_regularizer=l2(0.01))(dense_layer_2)\n",
    "output = Dense(1, activation='sigmoid')(dense_layer_3) # Can be sigmoid as well \n",
    "\n",
    "model = Model(inputs=input_layer, outputs=output)\n",
    "model.compile(loss='binary_crossentropy', optimizer='adam', metrics=['acc'])"
   ]
  },
  {
   "cell_type": "code",
   "execution_count": 34,
   "metadata": {},
   "outputs": [
    {
     "name": "stdout",
     "output_type": "stream",
     "text": [
      "Model: \"functional_1\"\n",
      "_________________________________________________________________\n",
      "Layer (type)                 Output Shape              Param #   \n",
      "=================================================================\n",
      "input_1 (InputLayer)         [(None, 5)]               0         \n",
      "_________________________________________________________________\n",
      "dense (Dense)                (None, 128)               768       \n",
      "_________________________________________________________________\n",
      "dense_1 (Dense)              (None, 128)               16512     \n",
      "_________________________________________________________________\n",
      "dense_2 (Dense)              (None, 128)               16512     \n",
      "_________________________________________________________________\n",
      "dense_3 (Dense)              (None, 1)                 129       \n",
      "=================================================================\n",
      "Total params: 33,921\n",
      "Trainable params: 33,921\n",
      "Non-trainable params: 0\n",
      "_________________________________________________________________\n"
     ]
    }
   ],
   "source": [
    "model.summary()"
   ]
  },
  {
   "cell_type": "code",
   "execution_count": 35,
   "metadata": {},
   "outputs": [
    {
     "name": "stdout",
     "output_type": "stream",
     "text": [
      "Epoch 1/100\n",
      "312/312 [==============================] - 1s 2ms/step - loss: 0.5844 - acc: 0.6918 - val_loss: 0.4978 - val_acc: 0.7500\n",
      "Epoch 2/100\n",
      "312/312 [==============================] - 0s 1ms/step - loss: 0.5250 - acc: 0.7386 - val_loss: 0.4782 - val_acc: 0.7574\n",
      "Epoch 3/100\n",
      "312/312 [==============================] - 0s 1ms/step - loss: 0.4008 - acc: 0.8216 - val_loss: 0.3236 - val_acc: 0.8861\n",
      "Epoch 4/100\n",
      "312/312 [==============================] - 0s 1ms/step - loss: 0.3336 - acc: 0.8621 - val_loss: 0.3237 - val_acc: 0.8688\n",
      "Epoch 5/100\n",
      "312/312 [==============================] - 0s 1ms/step - loss: 0.3296 - acc: 0.8640 - val_loss: 0.3037 - val_acc: 0.8861\n",
      "Epoch 6/100\n",
      "312/312 [==============================] - 0s 1ms/step - loss: 0.3262 - acc: 0.8650 - val_loss: 0.2967 - val_acc: 0.8886\n",
      "Epoch 7/100\n",
      "312/312 [==============================] - 0s 1ms/step - loss: 0.3214 - acc: 0.8670 - val_loss: 0.2905 - val_acc: 0.8911\n",
      "Epoch 8/100\n",
      "312/312 [==============================] - 0s 1ms/step - loss: 0.3137 - acc: 0.8660 - val_loss: 0.2906 - val_acc: 0.8960\n",
      "Epoch 9/100\n",
      "312/312 [==============================] - 0s 1ms/step - loss: 0.2939 - acc: 0.8749 - val_loss: 0.2681 - val_acc: 0.8837\n",
      "Epoch 10/100\n",
      "312/312 [==============================] - 0s 1ms/step - loss: 0.2773 - acc: 0.8801 - val_loss: 0.2595 - val_acc: 0.8837\n",
      "Epoch 11/100\n",
      "312/312 [==============================] - 0s 1ms/step - loss: 0.2706 - acc: 0.8816 - val_loss: 0.2535 - val_acc: 0.8787\n",
      "Epoch 12/100\n",
      "312/312 [==============================] - 0s 1ms/step - loss: 0.2652 - acc: 0.8826 - val_loss: 0.2309 - val_acc: 0.8886\n",
      "Epoch 13/100\n",
      "312/312 [==============================] - 0s 1ms/step - loss: 0.2618 - acc: 0.8835 - val_loss: 0.2311 - val_acc: 0.8911\n",
      "Epoch 14/100\n",
      "312/312 [==============================] - 0s 1ms/step - loss: 0.2558 - acc: 0.8849 - val_loss: 0.2173 - val_acc: 0.9035\n",
      "Epoch 15/100\n",
      "312/312 [==============================] - 0s 1ms/step - loss: 0.2459 - acc: 0.8881 - val_loss: 0.2095 - val_acc: 0.9059\n",
      "Epoch 16/100\n",
      "312/312 [==============================] - 0s 1ms/step - loss: 0.2315 - acc: 0.8978 - val_loss: 0.1928 - val_acc: 0.9183\n",
      "Epoch 17/100\n",
      "312/312 [==============================] - 0s 1ms/step - loss: 0.2127 - acc: 0.9108 - val_loss: 0.1858 - val_acc: 0.9282\n",
      "Epoch 18/100\n",
      "312/312 [==============================] - 0s 1ms/step - loss: 0.2019 - acc: 0.9166 - val_loss: 0.1734 - val_acc: 0.9257\n",
      "Epoch 19/100\n",
      "312/312 [==============================] - 0s 1ms/step - loss: 0.1947 - acc: 0.9198 - val_loss: 0.1855 - val_acc: 0.9282\n",
      "Epoch 20/100\n",
      "312/312 [==============================] - 0s 1ms/step - loss: 0.1871 - acc: 0.9230 - val_loss: 0.1657 - val_acc: 0.9307\n",
      "Epoch 21/100\n",
      "312/312 [==============================] - 0s 1ms/step - loss: 0.1840 - acc: 0.9249 - val_loss: 0.1615 - val_acc: 0.9332\n",
      "Epoch 22/100\n",
      "312/312 [==============================] - 0s 1ms/step - loss: 0.1777 - acc: 0.9275 - val_loss: 0.1846 - val_acc: 0.9332\n",
      "Epoch 23/100\n",
      "312/312 [==============================] - 0s 1ms/step - loss: 0.1711 - acc: 0.9310 - val_loss: 0.1492 - val_acc: 0.9406\n",
      "Epoch 24/100\n",
      "312/312 [==============================] - 0s 1ms/step - loss: 0.1636 - acc: 0.9342 - val_loss: 0.1530 - val_acc: 0.9307\n",
      "Epoch 25/100\n",
      "312/312 [==============================] - 0s 1ms/step - loss: 0.1559 - acc: 0.9369 - val_loss: 0.1317 - val_acc: 0.9480\n",
      "Epoch 26/100\n",
      "312/312 [==============================] - 0s 1ms/step - loss: 0.1439 - acc: 0.9422 - val_loss: 0.1227 - val_acc: 0.9505\n",
      "Epoch 27/100\n",
      "312/312 [==============================] - 0s 1ms/step - loss: 0.1225 - acc: 0.9526 - val_loss: 0.0944 - val_acc: 0.9604\n",
      "Epoch 28/100\n",
      "312/312 [==============================] - 0s 1ms/step - loss: 0.1108 - acc: 0.9574 - val_loss: 0.0986 - val_acc: 0.9629\n",
      "Epoch 29/100\n",
      "312/312 [==============================] - 0s 1ms/step - loss: 0.1063 - acc: 0.9591 - val_loss: 0.0955 - val_acc: 0.9653\n",
      "Epoch 30/100\n",
      "312/312 [==============================] - 0s 1ms/step - loss: 0.1009 - acc: 0.9616 - val_loss: 0.0809 - val_acc: 0.9604\n",
      "Epoch 31/100\n",
      "312/312 [==============================] - 0s 1ms/step - loss: 0.1003 - acc: 0.9613 - val_loss: 0.0870 - val_acc: 0.9728\n",
      "Epoch 32/100\n",
      "312/312 [==============================] - 0s 1ms/step - loss: 0.0948 - acc: 0.9639 - val_loss: 0.0844 - val_acc: 0.9653\n",
      "Epoch 33/100\n",
      "312/312 [==============================] - 0s 1ms/step - loss: 0.0958 - acc: 0.9634 - val_loss: 0.0736 - val_acc: 0.9678\n",
      "Epoch 34/100\n",
      "312/312 [==============================] - 0s 1ms/step - loss: 0.0939 - acc: 0.9640 - val_loss: 0.0764 - val_acc: 0.9728\n",
      "Epoch 35/100\n",
      "312/312 [==============================] - 0s 1ms/step - loss: 0.0890 - acc: 0.9662 - val_loss: 0.0768 - val_acc: 0.9703\n",
      "Epoch 36/100\n",
      "312/312 [==============================] - 0s 1ms/step - loss: 0.0897 - acc: 0.9667 - val_loss: 0.0735 - val_acc: 0.9728\n",
      "Epoch 37/100\n",
      "312/312 [==============================] - 0s 1ms/step - loss: 0.0883 - acc: 0.9666 - val_loss: 0.0661 - val_acc: 0.9728\n",
      "Epoch 38/100\n",
      "312/312 [==============================] - 0s 1ms/step - loss: 0.0881 - acc: 0.9664 - val_loss: 0.0646 - val_acc: 0.9752\n",
      "Epoch 39/100\n",
      "312/312 [==============================] - 0s 1ms/step - loss: 0.0868 - acc: 0.9668 - val_loss: 0.0637 - val_acc: 0.9678\n",
      "Epoch 40/100\n",
      "312/312 [==============================] - 0s 1ms/step - loss: 0.0844 - acc: 0.9681 - val_loss: 0.0748 - val_acc: 0.9653\n",
      "Epoch 41/100\n",
      "312/312 [==============================] - 0s 1ms/step - loss: 0.0859 - acc: 0.9667 - val_loss: 0.0766 - val_acc: 0.9678\n",
      "Epoch 42/100\n",
      "312/312 [==============================] - 0s 1ms/step - loss: 0.0853 - acc: 0.9676 - val_loss: 0.0839 - val_acc: 0.9703\n",
      "Epoch 43/100\n",
      "312/312 [==============================] - 0s 1ms/step - loss: 0.0831 - acc: 0.9681 - val_loss: 0.0823 - val_acc: 0.9653\n",
      "Epoch 44/100\n",
      "312/312 [==============================] - 0s 1ms/step - loss: 0.0826 - acc: 0.9688 - val_loss: 0.1061 - val_acc: 0.9579\n",
      "Epoch 45/100\n",
      "312/312 [==============================] - 0s 1ms/step - loss: 0.0827 - acc: 0.9681 - val_loss: 0.0719 - val_acc: 0.9728\n",
      "Epoch 46/100\n",
      "312/312 [==============================] - 0s 1ms/step - loss: 0.0815 - acc: 0.9690 - val_loss: 0.0627 - val_acc: 0.9752\n",
      "Epoch 47/100\n",
      "312/312 [==============================] - 0s 1ms/step - loss: 0.0829 - acc: 0.9690 - val_loss: 0.0830 - val_acc: 0.9678\n",
      "Epoch 48/100\n",
      "312/312 [==============================] - 0s 1ms/step - loss: 0.0811 - acc: 0.9694 - val_loss: 0.0643 - val_acc: 0.9728\n",
      "Epoch 49/100\n",
      "312/312 [==============================] - 0s 1ms/step - loss: 0.0805 - acc: 0.9690 - val_loss: 0.0760 - val_acc: 0.9703\n",
      "Epoch 50/100\n",
      "312/312 [==============================] - 0s 1ms/step - loss: 0.0780 - acc: 0.9705 - val_loss: 0.0672 - val_acc: 0.9752\n",
      "Epoch 51/100\n",
      "312/312 [==============================] - 0s 1ms/step - loss: 0.0792 - acc: 0.9697 - val_loss: 0.0595 - val_acc: 0.9678\n",
      "Epoch 52/100\n",
      "312/312 [==============================] - 0s 1ms/step - loss: 0.0811 - acc: 0.9694 - val_loss: 0.0632 - val_acc: 0.9728\n",
      "Epoch 53/100\n",
      "312/312 [==============================] - 0s 1ms/step - loss: 0.0805 - acc: 0.9700 - val_loss: 0.0568 - val_acc: 0.9752\n",
      "Epoch 54/100\n",
      "312/312 [==============================] - 0s 1ms/step - loss: 0.0782 - acc: 0.9705 - val_loss: 0.0787 - val_acc: 0.9629\n",
      "Epoch 55/100\n",
      "312/312 [==============================] - 0s 1ms/step - loss: 0.0779 - acc: 0.9703 - val_loss: 0.0601 - val_acc: 0.9777\n",
      "Epoch 56/100\n",
      "312/312 [==============================] - 0s 1ms/step - loss: 0.0779 - acc: 0.9707 - val_loss: 0.0600 - val_acc: 0.9752\n",
      "Epoch 57/100\n",
      "312/312 [==============================] - 0s 1ms/step - loss: 0.0764 - acc: 0.9706 - val_loss: 0.0590 - val_acc: 0.9802\n",
      "Epoch 58/100\n",
      "312/312 [==============================] - 0s 1ms/step - loss: 0.0760 - acc: 0.9718 - val_loss: 0.0785 - val_acc: 0.9703\n",
      "Epoch 59/100\n",
      "312/312 [==============================] - 0s 1ms/step - loss: 0.0791 - acc: 0.9695 - val_loss: 0.0714 - val_acc: 0.9703\n",
      "Epoch 60/100\n",
      "312/312 [==============================] - 0s 1ms/step - loss: 0.0758 - acc: 0.9718 - val_loss: 0.0587 - val_acc: 0.9752\n",
      "Epoch 61/100\n",
      "312/312 [==============================] - 0s 1ms/step - loss: 0.0764 - acc: 0.9712 - val_loss: 0.0583 - val_acc: 0.9728\n",
      "Epoch 62/100\n",
      "312/312 [==============================] - 0s 1ms/step - loss: 0.0766 - acc: 0.9706 - val_loss: 0.0641 - val_acc: 0.9703\n",
      "Epoch 63/100\n",
      "312/312 [==============================] - 0s 1ms/step - loss: 0.0747 - acc: 0.9715 - val_loss: 0.0621 - val_acc: 0.9752\n",
      "Epoch 64/100\n",
      "312/312 [==============================] - 0s 1ms/step - loss: 0.0747 - acc: 0.9720 - val_loss: 0.0594 - val_acc: 0.9777\n",
      "Epoch 65/100\n",
      "312/312 [==============================] - 0s 1ms/step - loss: 0.0769 - acc: 0.9710 - val_loss: 0.0708 - val_acc: 0.9703\n",
      "Epoch 66/100\n",
      "312/312 [==============================] - 0s 1ms/step - loss: 0.0745 - acc: 0.9722 - val_loss: 0.0748 - val_acc: 0.9728\n",
      "Epoch 67/100\n",
      "312/312 [==============================] - 0s 1ms/step - loss: 0.0745 - acc: 0.9716 - val_loss: 0.0602 - val_acc: 0.9703\n",
      "Epoch 68/100\n",
      "312/312 [==============================] - 0s 1ms/step - loss: 0.0726 - acc: 0.9726 - val_loss: 0.0653 - val_acc: 0.9728\n",
      "Epoch 69/100\n",
      "312/312 [==============================] - 0s 1ms/step - loss: 0.0735 - acc: 0.9722 - val_loss: 0.0619 - val_acc: 0.9703\n",
      "Epoch 70/100\n",
      "312/312 [==============================] - 0s 1ms/step - loss: 0.0733 - acc: 0.9728 - val_loss: 0.0594 - val_acc: 0.9777\n",
      "Epoch 71/100\n",
      "312/312 [==============================] - 0s 1ms/step - loss: 0.0750 - acc: 0.9720 - val_loss: 0.0584 - val_acc: 0.9827\n",
      "Epoch 72/100\n",
      "312/312 [==============================] - 0s 1ms/step - loss: 0.0734 - acc: 0.9723 - val_loss: 0.0677 - val_acc: 0.9752\n",
      "Epoch 73/100\n",
      "312/312 [==============================] - 0s 1ms/step - loss: 0.0726 - acc: 0.9729 - val_loss: 0.0587 - val_acc: 0.9777\n",
      "Epoch 74/100\n",
      "312/312 [==============================] - 0s 1ms/step - loss: 0.0735 - acc: 0.9718 - val_loss: 0.0646 - val_acc: 0.9752\n",
      "Epoch 75/100\n",
      "312/312 [==============================] - 0s 1ms/step - loss: 0.0724 - acc: 0.9725 - val_loss: 0.0540 - val_acc: 0.9802\n",
      "Epoch 76/100\n",
      "312/312 [==============================] - 0s 1ms/step - loss: 0.0719 - acc: 0.9731 - val_loss: 0.0558 - val_acc: 0.9777\n",
      "Epoch 77/100\n",
      "312/312 [==============================] - 0s 1ms/step - loss: 0.0716 - acc: 0.9724 - val_loss: 0.0624 - val_acc: 0.9777\n",
      "Epoch 78/100\n",
      "312/312 [==============================] - 0s 1ms/step - loss: 0.0706 - acc: 0.9732 - val_loss: 0.0518 - val_acc: 0.9728\n",
      "Epoch 79/100\n",
      "312/312 [==============================] - 0s 1ms/step - loss: 0.0726 - acc: 0.9726 - val_loss: 0.0603 - val_acc: 0.9752\n",
      "Epoch 80/100\n",
      "312/312 [==============================] - 0s 1ms/step - loss: 0.0728 - acc: 0.9731 - val_loss: 0.0662 - val_acc: 0.9752\n",
      "Epoch 81/100\n",
      "312/312 [==============================] - 0s 1ms/step - loss: 0.0707 - acc: 0.9738 - val_loss: 0.0538 - val_acc: 0.9802\n",
      "Epoch 82/100\n",
      "312/312 [==============================] - 0s 1ms/step - loss: 0.0712 - acc: 0.9738 - val_loss: 0.0503 - val_acc: 0.9802\n",
      "Epoch 83/100\n",
      "312/312 [==============================] - 0s 1ms/step - loss: 0.0724 - acc: 0.9722 - val_loss: 0.0503 - val_acc: 0.9802\n",
      "Epoch 84/100\n",
      "312/312 [==============================] - 0s 1ms/step - loss: 0.0699 - acc: 0.9740 - val_loss: 0.0593 - val_acc: 0.9728\n",
      "Epoch 85/100\n",
      "312/312 [==============================] - 0s 1ms/step - loss: 0.0705 - acc: 0.9740 - val_loss: 0.0534 - val_acc: 0.9802\n",
      "Epoch 86/100\n",
      "312/312 [==============================] - 0s 1ms/step - loss: 0.0691 - acc: 0.9746 - val_loss: 0.0531 - val_acc: 0.9752\n",
      "Epoch 87/100\n",
      "312/312 [==============================] - 0s 1ms/step - loss: 0.0698 - acc: 0.9738 - val_loss: 0.0524 - val_acc: 0.9752\n",
      "Epoch 88/100\n",
      "312/312 [==============================] - 0s 1ms/step - loss: 0.0710 - acc: 0.9732 - val_loss: 0.0531 - val_acc: 0.9827\n",
      "Epoch 89/100\n",
      "312/312 [==============================] - 0s 1ms/step - loss: 0.0710 - acc: 0.9732 - val_loss: 0.0541 - val_acc: 0.9752\n",
      "Epoch 90/100\n",
      "312/312 [==============================] - 0s 1ms/step - loss: 0.0689 - acc: 0.9744 - val_loss: 0.0594 - val_acc: 0.9703\n",
      "Epoch 91/100\n",
      "312/312 [==============================] - 0s 1ms/step - loss: 0.0683 - acc: 0.9750 - val_loss: 0.0547 - val_acc: 0.9777\n",
      "Epoch 92/100\n",
      "312/312 [==============================] - 0s 1ms/step - loss: 0.0711 - acc: 0.9738 - val_loss: 0.0525 - val_acc: 0.9777\n",
      "Epoch 93/100\n",
      "312/312 [==============================] - 0s 1ms/step - loss: 0.0688 - acc: 0.9739 - val_loss: 0.0700 - val_acc: 0.9703\n",
      "Epoch 94/100\n",
      "312/312 [==============================] - 0s 1ms/step - loss: 0.0702 - acc: 0.9744 - val_loss: 0.0587 - val_acc: 0.9752\n",
      "Epoch 95/100\n",
      "312/312 [==============================] - 0s 1ms/step - loss: 0.0679 - acc: 0.9749 - val_loss: 0.0569 - val_acc: 0.9728\n",
      "Epoch 96/100\n",
      "312/312 [==============================] - 0s 1ms/step - loss: 0.0694 - acc: 0.9735 - val_loss: 0.0569 - val_acc: 0.9752\n",
      "Epoch 97/100\n",
      "312/312 [==============================] - 0s 1ms/step - loss: 0.0685 - acc: 0.9743 - val_loss: 0.0501 - val_acc: 0.9777\n",
      "Epoch 98/100\n",
      "312/312 [==============================] - 0s 1ms/step - loss: 0.0673 - acc: 0.9752 - val_loss: 0.0575 - val_acc: 0.9728\n",
      "Epoch 99/100\n",
      "312/312 [==============================] - 0s 1ms/step - loss: 0.0688 - acc: 0.9742 - val_loss: 0.0693 - val_acc: 0.9728\n",
      "Epoch 100/100\n",
      "312/312 [==============================] - 0s 1ms/step - loss: 0.0680 - acc: 0.9749 - val_loss: 0.0507 - val_acc: 0.9777\n"
     ]
    }
   ],
   "source": [
    "history = model.fit(X_train, y_train, batch_size=128, epochs=100, verbose=1, validation_split=0.01)"
   ]
  },
  {
   "cell_type": "code",
   "execution_count": 36,
   "metadata": {},
   "outputs": [
    {
     "name": "stdout",
     "output_type": "stream",
     "text": [
      "316/316 [==============================] - 0s 606us/step - loss: 0.0744 - acc: 0.9729\n",
      "Test Score: 0.07435251772403717\n",
      "Test Accuracy: 97.29193449020386  %\n"
     ]
    }
   ],
   "source": [
    "score = model.evaluate(X_test, y_test, verbose=1)\n",
    "\n",
    "print(\"Test Score:\", score[0])\n",
    "print(\"Test Accuracy:\", score[1]*100 ,' %')"
   ]
  },
  {
   "cell_type": "code",
   "execution_count": 37,
   "metadata": {},
   "outputs": [
    {
     "name": "stdout",
     "output_type": "stream",
     "text": [
      "<class 'numpy.ndarray'>\n",
      "<class 'numpy.ndarray'>\n",
      "              precision    recall  f1-score   support\n",
      "\n",
      "           0       0.98      0.96      0.97      5068\n",
      "           1       0.96      0.98      0.97      5013\n",
      "\n",
      "    accuracy                           0.97     10081\n",
      "   macro avg       0.97      0.97      0.97     10081\n",
      "weighted avg       0.97      0.97      0.97     10081\n",
      "\n"
     ]
    }
   ],
   "source": [
    "from sklearn.metrics import classification_report\n",
    "y_pred=model.predict(X_test)\n",
    "print(type(y_pred))\n",
    "print(type(y_test))\n",
    "print(classification_report(y_test, y_pred.round()))"
   ]
  },
  {
   "cell_type": "code",
   "execution_count": 38,
   "metadata": {},
   "outputs": [
    {
     "name": "stdout",
     "output_type": "stream",
     "text": [
      "1261/1261 [==============================] - 1s 495us/step - loss: 0.0629 - acc: 0.9759\n",
      "Train accuracy: 97.58946299552917 %\n"
     ]
    }
   ],
   "source": [
    "train_score=model.evaluate(X_train,y_train,verbose=1)\n",
    "print('Train accuracy:' , train_score[1]*100 , '%')"
   ]
  },
  {
   "cell_type": "code",
   "execution_count": 39,
   "metadata": {},
   "outputs": [
    {
     "data": {
      "image/png": "[encoded data removed]",
      "text/plain": [
       "<Figure size 432x288 with 1 Axes>"
      ]
     },
     "metadata": {
      "needs_background": "light"
     },
     "output_type": "display_data"
    }
   ],
   "source": [
    "plt.plot(history.history['acc'])\n",
    "plt.plot(history.history['val_acc'])\n",
    "plt.title('model accuracy')\n",
    "plt.ylabel('accuracy')\n",
    "plt.xlabel('epoch')\n",
    "plt.legend(['train', 'val'], loc='upper left')\n",
    "plt.show()"
   ]
  },
  {
   "cell_type": "code",
   "execution_count": 40,
   "metadata": {},
   "outputs": [
    {
     "data": {
      "image/png": "[encoded data removed]",
      "text/plain": [
       "<Figure size 432x288 with 1 Axes>"
      ]
     },
     "metadata": {
      "needs_background": "light"
     },
     "output_type": "display_data"
    }
   ],
   "source": [
    "plt.plot(history.history['loss'])\n",
    "plt.plot(history.history['val_loss'])\n",
    "plt.title('model loss')\n",
    "plt.ylabel('loss')\n",
    "plt.xlabel('epoch')\n",
    "plt.legend(['train', 'validation'], loc='upper left')\n",
    "plt.show()"
   ]
  },
  {
   "cell_type": "code",
   "execution_count": 41,
   "metadata": {},
   "outputs": [],
   "source": [
    "model.save('Anomaly_Detection_model.h5')"
   ]
  },
  {
   "cell_type": "code",
   "execution_count": 42,
   "metadata": {},
   "outputs": [
    {
     "data": {
      "text/plain": [
       "array([[4884,  184],\n",
       "       [  89, 4924]])"
      ]
     },
     "execution_count": 42,
     "metadata": {},
     "output_type": "execute_result"
    }
   ],
   "source": [
    "from sklearn.metrics import confusion_matrix\n",
    "\n",
    "confusion_matrix(y_test, y_pred.round())"
   ]
  },
  {
   "cell_type": "code",
   "execution_count": 43,
   "metadata": {},
   "outputs": [],
   "source": [
    "def plot_confusion_matrix(cm,\n",
    "                          target_names,\n",
    "                          title='Confusion matrix',\n",
    "                          cmap=None,\n",
    "                          normalize=True):\n",
    "    import matplotlib.pyplot as plt\n",
    "    import numpy as np\n",
    "    import itertools\n",
    "\n",
    "    accuracy = np.trace(cm) / float(np.sum(cm))\n",
    "    misclass = 1 - accuracy\n",
    "\n",
    "    if cmap is None:\n",
    "        cmap = plt.get_cmap('Blues')\n",
    "\n",
    "    plt.figure(figsize=(8, 6))\n",
    "    plt.imshow(cm, interpolation='nearest', cmap=cmap)\n",
    "    plt.title(title)\n",
    "    plt.colorbar()\n",
    "\n",
    "    if target_names is not None:\n",
    "        tick_marks = np.arange(len(target_names))\n",
    "        plt.xticks(tick_marks, target_names, rotation=45)\n",
    "        plt.yticks(tick_marks, target_names)\n",
    "\n",
    "    if normalize:\n",
    "        cm = cm.astype('float') / cm.sum(axis=1)[:, np.newaxis]\n",
    "\n",
    "\n",
    "    thresh = cm.max() / 1.5 if normalize else cm.max() / 2\n",
    "    for i, j in itertools.product(range(cm.shape[0]), range(cm.shape[1])):\n",
    "        if normalize:\n",
    "            plt.text(j, i, \"{:0.4f}\".format(cm[i, j]),\n",
    "                     horizontalalignment=\"center\",\n",
    "                     color=\"white\" if cm[i, j] > thresh else \"black\")\n",
    "        else:\n",
    "            plt.text(j, i, \"{:,}\".format(cm[i, j]),\n",
    "                     horizontalalignment=\"center\",\n",
    "                     color=\"white\" if cm[i, j] > thresh else \"black\")\n",
    "\n",
    "\n",
    "    plt.tight_layout()\n",
    "    plt.ylabel('True label')\n",
    "    plt.xlabel('Predicted label\\naccuracy={:0.4f}; misclass={:0.4f}'.format(accuracy, misclass))\n",
    "    plt.show()"
   ]
  },
  {
   "cell_type": "code",
   "execution_count": 44,
   "metadata": {},
   "outputs": [
    {
     "data": {
      "image/png": "[encoded data removed]",
      "text/plain": [
       "<Figure size 576x432 with 2 Axes>"
      ]
     },
     "metadata": {
      "needs_background": "light"
     },
     "output_type": "display_data"
    }
   ],
   "source": [
    "plot_confusion_matrix(cm           = np.array([[4884, 184],[89, 4924]]), \n",
    "                      normalize    = False,\n",
    "                      target_names = ['high', 'medium', 'low'],\n",
    "                      title        = \"Confusion Matrix\")"
   ]
  },
  {
   "cell_type": "code",
   "execution_count": 45,
   "metadata": {},
   "outputs": [
    {
     "name": "stdout",
     "output_type": "stream",
     "text": [
      "[[1.]\n",
      " [1.]\n",
      " [1.]\n",
      " ...\n",
      " [0.]\n",
      " [1.]\n",
      " [0.]]\n",
      "[1 1 1 ... 0 1 0]\n"
     ]
    }
   ],
   "source": [
    "print((y_pred.round()))\n",
    "print(y_test)"
   ]
  },
  {
   "cell_type": "code",
   "execution_count": 46,
   "metadata": {},
   "outputs": [],
   "source": [
    "df2=pd.DataFrame({'Predicted':list(y_pred.round()),'Original':list(y_test)})"
   ]
  },
  {
   "cell_type": "code",
   "execution_count": 47,
   "metadata": {},
   "outputs": [
    {
     "data": {
      "text/html": [
       "<div>\n",
       "<style scoped>\n",
       "    .dataframe tbody tr th:only-of-type {\n",
       "        vertical-align: middle;\n",
       "    }\n",
       "\n",
       "    .dataframe tbody tr th {\n",
       "        vertical-align: top;\n",
       "    }\n",
       "\n",
       "    .dataframe thead th {\n",
       "        text-align: right;\n",
       "    }\n",
       "</style>\n",
       "<table border=\"1\" class=\"dataframe\">\n",
       "  <thead>\n",
       "    <tr style=\"text-align: right;\">\n",
       "      <th></th>\n",
       "      <th>Predicted</th>\n",
       "      <th>Original</th>\n",
       "    </tr>\n",
       "  </thead>\n",
       "  <tbody>\n",
       "    <tr>\n",
       "      <th>0</th>\n",
       "      <td>[1.0]</td>\n",
       "      <td>1</td>\n",
       "    </tr>\n",
       "    <tr>\n",
       "      <th>1</th>\n",
       "      <td>[1.0]</td>\n",
       "      <td>1</td>\n",
       "    </tr>\n",
       "    <tr>\n",
       "      <th>2</th>\n",
       "      <td>[1.0]</td>\n",
       "      <td>1</td>\n",
       "    </tr>\n",
       "    <tr>\n",
       "      <th>3</th>\n",
       "      <td>[0.0]</td>\n",
       "      <td>0</td>\n",
       "    </tr>\n",
       "    <tr>\n",
       "      <th>4</th>\n",
       "      <td>[1.0]</td>\n",
       "      <td>1</td>\n",
       "    </tr>\n",
       "    <tr>\n",
       "      <th>...</th>\n",
       "      <td>...</td>\n",
       "      <td>...</td>\n",
       "    </tr>\n",
       "    <tr>\n",
       "      <th>10076</th>\n",
       "      <td>[0.0]</td>\n",
       "      <td>0</td>\n",
       "    </tr>\n",
       "    <tr>\n",
       "      <th>10077</th>\n",
       "      <td>[0.0]</td>\n",
       "      <td>0</td>\n",
       "    </tr>\n",
       "    <tr>\n",
       "      <th>10078</th>\n",
       "      <td>[0.0]</td>\n",
       "      <td>0</td>\n",
       "    </tr>\n",
       "    <tr>\n",
       "      <th>10079</th>\n",
       "      <td>[1.0]</td>\n",
       "      <td>1</td>\n",
       "    </tr>\n",
       "    <tr>\n",
       "      <th>10080</th>\n",
       "      <td>[0.0]</td>\n",
       "      <td>0</td>\n",
       "    </tr>\n",
       "  </tbody>\n",
       "</table>\n",
       "<p>10081 rows × 2 columns</p>\n",
       "</div>"
      ],
      "text/plain": [
       "      Predicted  Original\n",
       "0         [1.0]         1\n",
       "1         [1.0]         1\n",
       "2         [1.0]         1\n",
       "3         [0.0]         0\n",
       "4         [1.0]         1\n",
       "...         ...       ...\n",
       "10076     [0.0]         0\n",
       "10077     [0.0]         0\n",
       "10078     [0.0]         0\n",
       "10079     [1.0]         1\n",
       "10080     [0.0]         0\n",
       "\n",
       "[10081 rows x 2 columns]"
      ]
     },
     "execution_count": 47,
     "metadata": {},
     "output_type": "execute_result"
    }
   ],
   "source": [
    "df2"
   ]
  },
  {
   "cell_type": "code",
   "execution_count": 48,
   "metadata": {},
   "outputs": [],
   "source": [
    "df2.to_csv('output.csv')"
   ]
  },
  {
   "cell_type": "code",
   "execution_count": 49,
   "metadata": {},
   "outputs": [
    {
     "data": {
      "image/png": "[encoded data removed]",
      "text/plain": [
       "<Figure size 720x720 with 1 Axes>"
      ]
     },
     "metadata": {
      "needs_background": "light"
     },
     "output_type": "display_data"
    }
   ],
   "source": [
    "from sklearn.metrics import roc_curve, auc\n",
    "\n",
    "plt.figure(figsize=(10, 10))\n",
    "plt.plot([0, 1], [0, 1], 'k--')\n",
    "\n",
    "\n",
    "    \n",
    "Y_pred = model.predict(X_test)\n",
    "fpr, tpr, threshold = roc_curve(y_test.ravel(), y_pred.ravel())\n",
    "\n",
    "plt.plot(fpr, tpr, label='{}, AUC = {:.3f}'.format(model, auc(fpr, tpr)))\n",
    "plt.xlabel('False positive rate')\n",
    "plt.ylabel('True positive rate')\n",
    "plt.title('ROC curve')\n",
    "plt.legend();"
   ]
  },
  {
   "cell_type": "code",
   "execution_count": 50,
   "metadata": {},
   "outputs": [],
   "source": [
    "from keras.models import load_model"
   ]
  },
  {
   "cell_type": "code",
   "execution_count": 51,
   "metadata": {},
   "outputs": [],
   "source": [
    "model=load_model('Anomaly_Detection_model.h5')\n",
    "\n",
    "def anomaly_predictor(humidity,pressure,temperature,wind_direction,wind_speed):\n",
    "  list_of_features=[[humidity,pressure,temperature,wind_direction,wind_speed]]\n",
    "  features_array=np.array(list_of_features)\n",
    "  sc = StandardScaler()\n",
    "  SS_features_array=sc.fit_transform(features_array)\n",
    "  predicted_output=model.predict(SS_features_array)\n",
    "  print(predicted_output)\n",
    "  if round(int(predicted_output),1) == 0:\n",
    "    return 'Normal'\n",
    "  else:\n",
    "    return 'Anomaly'"
   ]
  },
  {
   "cell_type": "code",
   "execution_count": 52,
   "metadata": {},
   "outputs": [
    {
     "name": "stdout",
     "output_type": "stream",
     "text": [
      "[[1.0623948e-08]]\n"
     ]
    },
    {
     "data": {
      "text/plain": [
       "'Normal'"
      ]
     },
     "execution_count": 52,
     "metadata": {},
     "output_type": "execute_result"
    }
   ],
   "source": [
    "anomaly_predictor(58,1012,288.22,260,7)"
   ]
  },
  {
   "cell_type": "code",
   "execution_count": 53,
   "metadata": {},
   "outputs": [
    {
     "name": "stdout",
     "output_type": "stream",
     "text": [
      "[[1.0623948e-08]]\n"
     ]
    },
    {
     "data": {
      "text/plain": [
       "'Normal'"
      ]
     },
     "execution_count": 53,
     "metadata": {},
     "output_type": "execute_result"
    }
   ],
   "source": [
    "anomaly_predictor(0,900,0,100,1)"
   ]
  },
  {
   "cell_type": "code",
   "execution_count": 55,
   "metadata": {},
   "outputs": [
    {
     "name": "stdout",
     "output_type": "stream",
     "text": [
      "[[1.0623948e-08]]\n"
     ]
    },
    {
     "data": {
      "text/plain": [
       "'Normal'"
      ]
     },
     "execution_count": 55,
     "metadata": {},
     "output_type": "execute_result"
    }
   ],
   "source": [
    "anomaly_predictor(57,1012,285.23,260,8)"
   ]
  },
  {
   "cell_type": "code",
   "execution_count": 56,
   "metadata": {},
   "outputs": [
    {
     "name": "stdout",
     "output_type": "stream",
     "text": [
      "[[1.0623948e-08]]\n"
     ]
    },
    {
     "data": {
      "text/plain": [
       "'Normal'"
      ]
     },
     "execution_count": 56,
     "metadata": {},
     "output_type": "execute_result"
    }
   ],
   "source": [
    "anomaly_predictor(0,0,0,0,0)"
   ]
  },
  {
   "cell_type": "code",
   "execution_count": null,
   "metadata": {},
   "outputs": [],
   "source": []
  }
 ],
 "metadata": {
  "kernelspec": {
   "display_name": "Python 3",
   "language": "python",
   "name": "python3"
  },
  "language_info": {
   "codemirror_mode": {
    "name": "ipython",
    "version": 3
   },
   "file_extension": ".py",
   "mimetype": "text/x-python",
   "name": "python",
   "nbconvert_exporter": "python",
   "pygments_lexer": "ipython3",
   "version": "3.7.6"
  }
 },
 "nbformat": 4,
 "nbformat_minor": 4
}
